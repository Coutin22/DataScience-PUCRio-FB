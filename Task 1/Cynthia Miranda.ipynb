{
 "cells": [
  {
   "cell_type": "markdown",
   "id": "e1558a4e-7cc8-41a9-af9c-05a15debcfe4",
   "metadata": {},
   "source": [
    "# Tarefa prática 1 - pré-processamento de dados"
   ]
  },
  {
   "cell_type": "markdown",
   "id": "c456ed74-3a73-439b-98fc-dad54d38fd0b",
   "metadata": {},
   "source": [
    "Nesta atividade, devem clonar o repositório GitHub da disciplina nos seus discos locais e fazer um git push com o seu código e relatórios para que possam ser avaliados. \n",
    "\n",
    "Repositório: https://github.com/renatoquiliche/DataScience-PUCRio-FB"
   ]
  },
  {
   "cell_type": "markdown",
   "id": "98e7e9a8-8226-49fa-a38c-49eb6d7ffaad",
   "metadata": {},
   "source": [
    "1 - Carregar o dataset Data Science Job Salaries no software utilizado e gerar estatísticas descritivas (extra: desenvolver os exercícios 1, 2, 3 e 4 usando o dataset do seus projetos da disciplina)."
   ]
  },
  {
   "cell_type": "code",
   "execution_count": 1,
   "id": "6fb4b4e4-cb7f-4991-a6b7-29081854f30b",
   "metadata": {},
   "outputs": [],
   "source": [
    "import pandas as pd\n",
    "import datetime"
   ]
  },
  {
   "cell_type": "code",
   "execution_count": 2,
   "id": "1b8beaa7-74f2-4c6a-8448-17b231734004",
   "metadata": {},
   "outputs": [],
   "source": [
    "df = pd.read_csv('/home/cynthia.vianna/Documentos/meupc/MESTRADO/DataScience-PUCRio-FB/Data/DS_salarios/ds_salaries.csv')"
   ]
  },
  {
   "cell_type": "code",
   "execution_count": 3,
   "id": "8af34abb-3fd6-4376-84f4-ad818f5b3f2c",
   "metadata": {},
   "outputs": [],
   "source": [
    "df.drop(columns = [\"Unnamed: 0\"], errors = \"ignore\",inplace = True)"
   ]
  },
  {
   "cell_type": "code",
   "execution_count": 4,
   "id": "d6e4c9b2-2bf0-4494-91ee-1ac1b4c3a625",
   "metadata": {},
   "outputs": [],
   "source": [
    "df['data'] = pd.to_datetime({'year':df.work_year, 'month':df.work_month,'day':1})\n",
    "# df.drop(columns = [\"work_year\", \"work_month\"], errors = \"ignore\",inplace = True)"
   ]
  },
  {
   "cell_type": "code",
   "execution_count": 5,
   "id": "36671ad3-a902-4abb-8091-9e143deb517e",
   "metadata": {},
   "outputs": [],
   "source": [
    "# df.columns"
   ]
  },
  {
   "cell_type": "code",
   "execution_count": 6,
   "id": "47502e8e-cd5a-4169-934b-35c6fac45ade",
   "metadata": {},
   "outputs": [],
   "source": [
    "df = df[[\"data\",\"work_year\", \"work_month\" ,\"job_title\",\"experience_level\",\"employment_type\",\"employee_residence\",\n",
    "         \"salary\",\"salary_currency\", \"salary_in_usd\",\"remote_ratio\", \"company_location\", \"company_size\"]]"
   ]
  },
  {
   "cell_type": "code",
   "execution_count": 7,
   "id": "44d22e7d-fee5-479d-8d78-c8fc8a1e6f53",
   "metadata": {},
   "outputs": [],
   "source": [
    "# df[\"cotacao_dolar\"]=df[\"salary_in_usd\"]/df[\"salary\"]"
   ]
  },
  {
   "cell_type": "code",
   "execution_count": 8,
   "id": "1c5291ff-1d94-45d3-a4a1-e25841b12f88",
   "metadata": {},
   "outputs": [
    {
     "data": {
      "text/plain": [
       "count       607.000000\n",
       "mean     112297.869852\n",
       "std       70957.259411\n",
       "min        2859.000000\n",
       "25%       62726.000000\n",
       "50%      101570.000000\n",
       "75%      150000.000000\n",
       "max      600000.000000\n",
       "Name: salary_in_usd, dtype: float64"
      ]
     },
     "execution_count": 8,
     "metadata": {},
     "output_type": "execute_result"
    }
   ],
   "source": [
    "df[\"salary_in_usd\"].describe()"
   ]
  },
  {
   "cell_type": "code",
   "execution_count": 9,
   "id": "7506c9b6-2a85-4a90-81cd-48a99f32fe33",
   "metadata": {},
   "outputs": [
    {
     "data": {
      "text/plain": [
       "<AxesSubplot:xlabel='work_year'>"
      ]
     },
     "execution_count": 9,
     "metadata": {},
     "output_type": "execute_result"
    },
    {
     "data": {
      "image/png": "[encoded data removed]",
      "text/plain": [
       "<Figure size 432x288 with 1 Axes>"
      ]
     },
     "metadata": {
      "needs_background": "light"
     },
     "output_type": "display_data"
    }
   ],
   "source": [
    "df.groupby(df.work_year)[\"salary_in_usd\"].sum().plot.bar()"
   ]
  },
  {
   "cell_type": "code",
   "execution_count": 10,
   "id": "08d635ce-a229-43a7-923a-de91d3d9c8c3",
   "metadata": {},
   "outputs": [
    {
     "data": {
      "text/html": [
       "<div>\n",
       "<style scoped>\n",
       "    .dataframe tbody tr th:only-of-type {\n",
       "        vertical-align: middle;\n",
       "    }\n",
       "\n",
       "    .dataframe tbody tr th {\n",
       "        vertical-align: top;\n",
       "    }\n",
       "\n",
       "    .dataframe thead th {\n",
       "        text-align: right;\n",
       "    }\n",
       "</style>\n",
       "<table border=\"1\" class=\"dataframe\">\n",
       "  <thead>\n",
       "    <tr style=\"text-align: right;\">\n",
       "      <th></th>\n",
       "      <th>job_title</th>\n",
       "      <th>experience_level</th>\n",
       "      <th>company_size</th>\n",
       "      <th>count</th>\n",
       "      <th>sum</th>\n",
       "      <th>mean</th>\n",
       "    </tr>\n",
       "  </thead>\n",
       "  <tbody>\n",
       "    <tr>\n",
       "      <th>145</th>\n",
       "      <td>Principal Data Engineer</td>\n",
       "      <td>EX</td>\n",
       "      <td>L</td>\n",
       "      <td>1</td>\n",
       "      <td>600000</td>\n",
       "      <td>600000.0</td>\n",
       "    </tr>\n",
       "    <tr>\n",
       "      <th>97</th>\n",
       "      <td>Financial Data Analyst</td>\n",
       "      <td>MI</td>\n",
       "      <td>L</td>\n",
       "      <td>1</td>\n",
       "      <td>450000</td>\n",
       "      <td>450000.0</td>\n",
       "    </tr>\n",
       "    <tr>\n",
       "      <th>148</th>\n",
       "      <td>Principal Data Scientist</td>\n",
       "      <td>EX</td>\n",
       "      <td>S</td>\n",
       "      <td>1</td>\n",
       "      <td>416000</td>\n",
       "      <td>416000.0</td>\n",
       "    </tr>\n",
       "  </tbody>\n",
       "</table>\n",
       "</div>"
      ],
      "text/plain": [
       "                    job_title experience_level company_size  count     sum  \\\n",
       "145   Principal Data Engineer               EX            L      1  600000   \n",
       "97     Financial Data Analyst               MI            L      1  450000   \n",
       "148  Principal Data Scientist               EX            S      1  416000   \n",
       "\n",
       "         mean  \n",
       "145  600000.0  \n",
       "97   450000.0  \n",
       "148  416000.0  "
      ]
     },
     "execution_count": 10,
     "metadata": {},
     "output_type": "execute_result"
    }
   ],
   "source": [
    "# top 3 profissoes no quesito salario:\n",
    "rank=df.groupby(['job_title','experience_level','company_size'])['salary_in_usd'].agg(['count', 'sum', 'mean']).reset_index().sort_values(['mean'], ascending=[False])\n",
    "rank.head(3)"
   ]
  },
  {
   "cell_type": "code",
   "execution_count": 11,
   "id": "e923deaf-233d-495c-a04c-2b912bc49b75",
   "metadata": {},
   "outputs": [
    {
     "data": {
      "text/html": [
       "<div>\n",
       "<style scoped>\n",
       "    .dataframe tbody tr th:only-of-type {\n",
       "        vertical-align: middle;\n",
       "    }\n",
       "\n",
       "    .dataframe tbody tr th {\n",
       "        vertical-align: top;\n",
       "    }\n",
       "\n",
       "    .dataframe thead th {\n",
       "        text-align: right;\n",
       "    }\n",
       "</style>\n",
       "<table border=\"1\" class=\"dataframe\">\n",
       "  <thead>\n",
       "    <tr style=\"text-align: right;\">\n",
       "      <th></th>\n",
       "      <th>job_title</th>\n",
       "      <th>experience_level</th>\n",
       "      <th>company_size</th>\n",
       "      <th>count</th>\n",
       "      <th>sum</th>\n",
       "      <th>mean</th>\n",
       "    </tr>\n",
       "  </thead>\n",
       "  <tbody>\n",
       "    <tr>\n",
       "      <th>152</th>\n",
       "      <td>Product Data Analyst</td>\n",
       "      <td>MI</td>\n",
       "      <td>L</td>\n",
       "      <td>1</td>\n",
       "      <td>6072</td>\n",
       "      <td>6072.0</td>\n",
       "    </tr>\n",
       "    <tr>\n",
       "      <th>70</th>\n",
       "      <td>Data Science Consultant</td>\n",
       "      <td>EN</td>\n",
       "      <td>M</td>\n",
       "      <td>1</td>\n",
       "      <td>5707</td>\n",
       "      <td>5707.0</td>\n",
       "    </tr>\n",
       "    <tr>\n",
       "      <th>0</th>\n",
       "      <td>3D Computer Vision Researcher</td>\n",
       "      <td>MI</td>\n",
       "      <td>M</td>\n",
       "      <td>1</td>\n",
       "      <td>5409</td>\n",
       "      <td>5409.0</td>\n",
       "    </tr>\n",
       "  </tbody>\n",
       "</table>\n",
       "</div>"
      ],
      "text/plain": [
       "                         job_title experience_level company_size  count   sum  \\\n",
       "152           Product Data Analyst               MI            L      1  6072   \n",
       "70         Data Science Consultant               EN            M      1  5707   \n",
       "0    3D Computer Vision Researcher               MI            M      1  5409   \n",
       "\n",
       "       mean  \n",
       "152  6072.0  \n",
       "70   5707.0  \n",
       "0    5409.0  "
      ]
     },
     "execution_count": 11,
     "metadata": {},
     "output_type": "execute_result"
    }
   ],
   "source": [
    "# bottom 3 profissoes no quesito salario:\n",
    "rank.tail(3)"
   ]
  },
  {
   "cell_type": "code",
   "execution_count": 12,
   "id": "df6a4227-b08c-4aae-875e-fd68270c4734",
   "metadata": {},
   "outputs": [
    {
     "data": {
      "text/html": [
       "<div>\n",
       "<style scoped>\n",
       "    .dataframe tbody tr th:only-of-type {\n",
       "        vertical-align: middle;\n",
       "    }\n",
       "\n",
       "    .dataframe tbody tr th {\n",
       "        vertical-align: top;\n",
       "    }\n",
       "\n",
       "    .dataframe thead th {\n",
       "        text-align: right;\n",
       "    }\n",
       "</style>\n",
       "<table border=\"1\" class=\"dataframe\">\n",
       "  <thead>\n",
       "    <tr style=\"text-align: right;\">\n",
       "      <th></th>\n",
       "      <th>data</th>\n",
       "      <th>work_year</th>\n",
       "      <th>work_month</th>\n",
       "      <th>job_title</th>\n",
       "      <th>experience_level</th>\n",
       "      <th>employment_type</th>\n",
       "      <th>employee_residence</th>\n",
       "      <th>salary</th>\n",
       "      <th>salary_currency</th>\n",
       "      <th>salary_in_usd</th>\n",
       "      <th>remote_ratio</th>\n",
       "      <th>company_location</th>\n",
       "      <th>company_size</th>\n",
       "    </tr>\n",
       "  </thead>\n",
       "  <tbody>\n",
       "    <tr>\n",
       "      <th>0</th>\n",
       "      <td>2020-06-01</td>\n",
       "      <td>2020</td>\n",
       "      <td>6</td>\n",
       "      <td>Data Scientist</td>\n",
       "      <td>MI</td>\n",
       "      <td>FT</td>\n",
       "      <td>DE</td>\n",
       "      <td>70000</td>\n",
       "      <td>EUR</td>\n",
       "      <td>79833</td>\n",
       "      <td>0</td>\n",
       "      <td>DE</td>\n",
       "      <td>L</td>\n",
       "    </tr>\n",
       "    <tr>\n",
       "      <th>1</th>\n",
       "      <td>2020-11-01</td>\n",
       "      <td>2020</td>\n",
       "      <td>11</td>\n",
       "      <td>Machine Learning Scientist</td>\n",
       "      <td>SE</td>\n",
       "      <td>FT</td>\n",
       "      <td>JP</td>\n",
       "      <td>260000</td>\n",
       "      <td>USD</td>\n",
       "      <td>260000</td>\n",
       "      <td>0</td>\n",
       "      <td>JP</td>\n",
       "      <td>S</td>\n",
       "    </tr>\n",
       "    <tr>\n",
       "      <th>2</th>\n",
       "      <td>2020-12-01</td>\n",
       "      <td>2020</td>\n",
       "      <td>12</td>\n",
       "      <td>Big Data Engineer</td>\n",
       "      <td>SE</td>\n",
       "      <td>FT</td>\n",
       "      <td>GB</td>\n",
       "      <td>85000</td>\n",
       "      <td>GBP</td>\n",
       "      <td>109024</td>\n",
       "      <td>50</td>\n",
       "      <td>GB</td>\n",
       "      <td>M</td>\n",
       "    </tr>\n",
       "    <tr>\n",
       "      <th>3</th>\n",
       "      <td>2020-06-01</td>\n",
       "      <td>2020</td>\n",
       "      <td>6</td>\n",
       "      <td>Product Data Analyst</td>\n",
       "      <td>MI</td>\n",
       "      <td>FT</td>\n",
       "      <td>HN</td>\n",
       "      <td>20000</td>\n",
       "      <td>USD</td>\n",
       "      <td>20000</td>\n",
       "      <td>0</td>\n",
       "      <td>HN</td>\n",
       "      <td>S</td>\n",
       "    </tr>\n",
       "    <tr>\n",
       "      <th>4</th>\n",
       "      <td>2020-10-01</td>\n",
       "      <td>2020</td>\n",
       "      <td>10</td>\n",
       "      <td>Machine Learning Engineer</td>\n",
       "      <td>SE</td>\n",
       "      <td>FT</td>\n",
       "      <td>US</td>\n",
       "      <td>150000</td>\n",
       "      <td>USD</td>\n",
       "      <td>150000</td>\n",
       "      <td>50</td>\n",
       "      <td>US</td>\n",
       "      <td>L</td>\n",
       "    </tr>\n",
       "  </tbody>\n",
       "</table>\n",
       "</div>"
      ],
      "text/plain": [
       "        data  work_year  work_month                   job_title  \\\n",
       "0 2020-06-01       2020           6              Data Scientist   \n",
       "1 2020-11-01       2020          11  Machine Learning Scientist   \n",
       "2 2020-12-01       2020          12           Big Data Engineer   \n",
       "3 2020-06-01       2020           6        Product Data Analyst   \n",
       "4 2020-10-01       2020          10   Machine Learning Engineer   \n",
       "\n",
       "  experience_level employment_type employee_residence  salary salary_currency  \\\n",
       "0               MI              FT                 DE   70000             EUR   \n",
       "1               SE              FT                 JP  260000             USD   \n",
       "2               SE              FT                 GB   85000             GBP   \n",
       "3               MI              FT                 HN   20000             USD   \n",
       "4               SE              FT                 US  150000             USD   \n",
       "\n",
       "   salary_in_usd  remote_ratio company_location company_size  \n",
       "0          79833             0               DE            L  \n",
       "1         260000             0               JP            S  \n",
       "2         109024            50               GB            M  \n",
       "3          20000             0               HN            S  \n",
       "4         150000            50               US            L  "
      ]
     },
     "execution_count": 12,
     "metadata": {},
     "output_type": "execute_result"
    }
   ],
   "source": [
    "df.head(5)"
   ]
  },
  {
   "cell_type": "markdown",
   "id": "b349d078-e7a8-4294-b672-b1609a6c8d20",
   "metadata": {},
   "source": [
    "2 - Aplicar uma técnica de amostragem (sugestão: aplicar bootstrap)"
   ]
  },
  {
   "cell_type": "code",
   "execution_count": 13,
   "id": "ac9e2da8-6d09-4887-87c7-f5bc62f4656d",
   "metadata": {},
   "outputs": [
    {
     "data": {
      "text/plain": [
       "<AxesSubplot:>"
      ]
     },
     "execution_count": 13,
     "metadata": {},
     "output_type": "execute_result"
    },
    {
     "data": {
      "image/png": "[encoded data removed]",
      "text/plain": [
       "<Figure size 432x288 with 1 Axes>"
      ]
     },
     "metadata": {
      "needs_background": "light"
     },
     "output_type": "display_data"
    }
   ],
   "source": [
    "df[\"salary_in_usd\"].hist()"
   ]
  },
  {
   "cell_type": "code",
   "execution_count": 14,
   "id": "8a6cbaf1-5f30-4b37-93a7-adf43b7cfc98",
   "metadata": {},
   "outputs": [
    {
     "data": {
      "text/html": [
       "<div>\n",
       "<style scoped>\n",
       "    .dataframe tbody tr th:only-of-type {\n",
       "        vertical-align: middle;\n",
       "    }\n",
       "\n",
       "    .dataframe tbody tr th {\n",
       "        vertical-align: top;\n",
       "    }\n",
       "\n",
       "    .dataframe thead th {\n",
       "        text-align: right;\n",
       "    }\n",
       "</style>\n",
       "<table border=\"1\" class=\"dataframe\">\n",
       "  <thead>\n",
       "    <tr style=\"text-align: right;\">\n",
       "      <th></th>\n",
       "      <th>mean_salary</th>\n",
       "    </tr>\n",
       "  </thead>\n",
       "  <tbody>\n",
       "    <tr>\n",
       "      <th>0</th>\n",
       "      <td>109994.000</td>\n",
       "    </tr>\n",
       "    <tr>\n",
       "      <th>1</th>\n",
       "      <td>110672.896</td>\n",
       "    </tr>\n",
       "    <tr>\n",
       "      <th>2</th>\n",
       "      <td>109479.306</td>\n",
       "    </tr>\n",
       "    <tr>\n",
       "      <th>3</th>\n",
       "      <td>114523.136</td>\n",
       "    </tr>\n",
       "    <tr>\n",
       "      <th>4</th>\n",
       "      <td>117370.678</td>\n",
       "    </tr>\n",
       "    <tr>\n",
       "      <th>...</th>\n",
       "      <td>...</td>\n",
       "    </tr>\n",
       "    <tr>\n",
       "      <th>995</th>\n",
       "      <td>109679.408</td>\n",
       "    </tr>\n",
       "    <tr>\n",
       "      <th>996</th>\n",
       "      <td>110102.554</td>\n",
       "    </tr>\n",
       "    <tr>\n",
       "      <th>997</th>\n",
       "      <td>119200.652</td>\n",
       "    </tr>\n",
       "    <tr>\n",
       "      <th>998</th>\n",
       "      <td>112199.476</td>\n",
       "    </tr>\n",
       "    <tr>\n",
       "      <th>999</th>\n",
       "      <td>111538.786</td>\n",
       "    </tr>\n",
       "  </tbody>\n",
       "</table>\n",
       "<p>1000 rows × 1 columns</p>\n",
       "</div>"
      ],
      "text/plain": [
       "     mean_salary\n",
       "0     109994.000\n",
       "1     110672.896\n",
       "2     109479.306\n",
       "3     114523.136\n",
       "4     117370.678\n",
       "..           ...\n",
       "995   109679.408\n",
       "996   110102.554\n",
       "997   119200.652\n",
       "998   112199.476\n",
       "999   111538.786\n",
       "\n",
       "[1000 rows x 1 columns]"
      ]
     },
     "execution_count": 14,
     "metadata": {},
     "output_type": "execute_result"
    }
   ],
   "source": [
    "#bootstrapping\n",
    "bootstrap=pd.DataFrame({'mean_salary':[df.sample(500,replace=True)[\"salary_in_usd\"].mean() for i in range(0,1000)]})\n",
    " \n",
    "bootstrap"
   ]
  },
  {
   "cell_type": "code",
   "execution_count": 15,
   "id": "02fb8eae-2d61-4df0-80df-cd9bf7d11f8f",
   "metadata": {},
   "outputs": [
    {
     "data": {
      "text/plain": [
       "<AxesSubplot:>"
      ]
     },
     "execution_count": 15,
     "metadata": {},
     "output_type": "execute_result"
    },
    {
     "data": {
      "image/png": "[encoded data removed]",
      "text/plain": [
       "<Figure size 432x288 with 1 Axes>"
      ]
     },
     "metadata": {
      "needs_background": "light"
     },
     "output_type": "display_data"
    }
   ],
   "source": [
    "bootstrap['mean_salary'].hist()"
   ]
  },
  {
   "cell_type": "code",
   "execution_count": 16,
   "id": "5dc171e0-8ba3-4068-8782-a0364eacba9d",
   "metadata": {},
   "outputs": [
    {
     "data": {
      "text/plain": [
       "(106662.72925, 118714.995)"
      ]
     },
     "execution_count": 16,
     "metadata": {},
     "output_type": "execute_result"
    }
   ],
   "source": [
    "(bootstrap['mean_salary'].quantile(0.025),bootstrap['mean_salary'].quantile(0.975))"
   ]
  },
  {
   "cell_type": "code",
   "execution_count": 17,
   "id": "93d8143a-7a91-4465-bd07-dce9b0000901",
   "metadata": {},
   "outputs": [
    {
     "data": {
      "text/plain": [
       "112297.86985172982"
      ]
     },
     "execution_count": 17,
     "metadata": {},
     "output_type": "execute_result"
    }
   ],
   "source": [
    "df[\"salary_in_usd\"].mean()"
   ]
  },
  {
   "cell_type": "markdown",
   "id": "9111fb5c-5e82-4b3c-a06f-3c1d8ca82c97",
   "metadata": {},
   "source": [
    "3 - Aplicar uma técnica de discretização (sugestão: transformar variável numérica em quantiles)"
   ]
  },
  {
   "cell_type": "code",
   "execution_count": 18,
   "id": "63a8923f-fa23-407a-80b3-e68e5ca90ea7",
   "metadata": {},
   "outputs": [],
   "source": [
    "def faixas(salary_in_usd): \n",
    "    if   salary_in_usd <= df[\"salary_in_usd\"].quantile(.25):        \n",
    "        return '1'\n",
    "    elif salary_in_usd >  df[\"salary_in_usd\"].quantile(.25)  and salary_in_usd <= df[\"salary_in_usd\"].quantile(.5):        \n",
    "        return '2'    \n",
    "    elif salary_in_usd >  df[\"salary_in_usd\"].quantile(.5)  and salary_in_usd <= df[\"salary_in_usd\"].quantile(.75):   \n",
    "        return '3'\n",
    "    elif salary_in_usd >= df[\"salary_in_usd\"].quantile(.75):  \n",
    "        return '4'  \n",
    "\n",
    "df['QUARTIL'] = df[\"salary_in_usd\"].map(faixas)"
   ]
  },
  {
   "cell_type": "code",
   "execution_count": 19,
   "id": "8ac3acfd-21c6-4d89-9b98-951e28a63f41",
   "metadata": {},
   "outputs": [],
   "source": [
    "#verificando"
   ]
  },
  {
   "cell_type": "code",
   "execution_count": 20,
   "id": "0bdf329e-7540-4903-8d6f-6b4405b73f0b",
   "metadata": {},
   "outputs": [
    {
     "data": {
      "text/plain": [
       "count       607.000000\n",
       "mean     112297.869852\n",
       "std       70957.259411\n",
       "min        2859.000000\n",
       "25%       62726.000000\n",
       "50%      101570.000000\n",
       "75%      150000.000000\n",
       "max      600000.000000\n",
       "Name: salary_in_usd, dtype: float64"
      ]
     },
     "execution_count": 20,
     "metadata": {},
     "output_type": "execute_result"
    }
   ],
   "source": [
    "df[\"salary_in_usd\"].describe()"
   ]
  },
  {
   "cell_type": "code",
   "execution_count": 21,
   "id": "825c0e59-9032-4a19-8713-68c6645c1699",
   "metadata": {},
   "outputs": [
    {
     "data": {
      "text/html": [
       "<div>\n",
       "<style scoped>\n",
       "    .dataframe tbody tr th:only-of-type {\n",
       "        vertical-align: middle;\n",
       "    }\n",
       "\n",
       "    .dataframe tbody tr th {\n",
       "        vertical-align: top;\n",
       "    }\n",
       "\n",
       "    .dataframe thead th {\n",
       "        text-align: right;\n",
       "    }\n",
       "</style>\n",
       "<table border=\"1\" class=\"dataframe\">\n",
       "  <thead>\n",
       "    <tr style=\"text-align: right;\">\n",
       "      <th></th>\n",
       "      <th>min</th>\n",
       "      <th>max</th>\n",
       "    </tr>\n",
       "    <tr>\n",
       "      <th>QUARTIL</th>\n",
       "      <th></th>\n",
       "      <th></th>\n",
       "    </tr>\n",
       "  </thead>\n",
       "  <tbody>\n",
       "    <tr>\n",
       "      <th>1</th>\n",
       "      <td>2859</td>\n",
       "      <td>62726</td>\n",
       "    </tr>\n",
       "    <tr>\n",
       "      <th>2</th>\n",
       "      <td>63711</td>\n",
       "      <td>101570</td>\n",
       "    </tr>\n",
       "    <tr>\n",
       "      <th>3</th>\n",
       "      <td>102100</td>\n",
       "      <td>150000</td>\n",
       "    </tr>\n",
       "    <tr>\n",
       "      <th>4</th>\n",
       "      <td>150075</td>\n",
       "      <td>600000</td>\n",
       "    </tr>\n",
       "  </tbody>\n",
       "</table>\n",
       "</div>"
      ],
      "text/plain": [
       "            min     max\n",
       "QUARTIL                \n",
       "1          2859   62726\n",
       "2         63711  101570\n",
       "3        102100  150000\n",
       "4        150075  600000"
      ]
     },
     "execution_count": 21,
     "metadata": {},
     "output_type": "execute_result"
    }
   ],
   "source": [
    "df.groupby(['QUARTIL'])[\"salary_in_usd\"].agg(['min','max'])"
   ]
  },
  {
   "cell_type": "markdown",
   "id": "194fa33f-fe3a-4917-bab1-63a3eadba503",
   "metadata": {},
   "source": [
    "4 - Aplicar uma técnica de Feature Engineering (sugestão: aplicar uma funçao que transforme os campos de ano e mês na quantidade de meses transcorrido desde uma data inicial. Por exemplo, ano 2020/mês 6 representariam 30 meses de antiguidade)"
   ]
  },
  {
   "cell_type": "code",
   "execution_count": 22,
   "id": "d47b3a02-a259-4511-9ca2-73f81c5ea43d",
   "metadata": {},
   "outputs": [],
   "source": [
    "df[\"data_max\"] = df.data.max()"
   ]
  },
  {
   "cell_type": "code",
   "execution_count": 23,
   "id": "cbbb96c4-f2ef-4a21-969f-60f5c769e032",
   "metadata": {},
   "outputs": [],
   "source": [
    "df[\"aux\"] = df[\"data_max\"] - df[\"data\"]\n",
    "df['dias'] = df.aux.astype('timedelta64[D]')\n",
    "df['meses']=round((df.dias/30.5),0)"
   ]
  },
  {
   "cell_type": "code",
   "execution_count": 24,
   "id": "7e35e377-5dbc-4a2b-8c96-e922c1be8960",
   "metadata": {},
   "outputs": [
    {
     "data": {
      "text/html": [
       "<div>\n",
       "<style scoped>\n",
       "    .dataframe tbody tr th:only-of-type {\n",
       "        vertical-align: middle;\n",
       "    }\n",
       "\n",
       "    .dataframe tbody tr th {\n",
       "        vertical-align: top;\n",
       "    }\n",
       "\n",
       "    .dataframe thead th {\n",
       "        text-align: right;\n",
       "    }\n",
       "</style>\n",
       "<table border=\"1\" class=\"dataframe\">\n",
       "  <thead>\n",
       "    <tr style=\"text-align: right;\">\n",
       "      <th></th>\n",
       "      <th>data</th>\n",
       "      <th>work_year</th>\n",
       "      <th>work_month</th>\n",
       "      <th>job_title</th>\n",
       "      <th>experience_level</th>\n",
       "      <th>employment_type</th>\n",
       "      <th>employee_residence</th>\n",
       "      <th>salary</th>\n",
       "      <th>salary_currency</th>\n",
       "      <th>salary_in_usd</th>\n",
       "      <th>remote_ratio</th>\n",
       "      <th>company_location</th>\n",
       "      <th>company_size</th>\n",
       "      <th>QUARTIL</th>\n",
       "      <th>data_max</th>\n",
       "      <th>aux</th>\n",
       "      <th>dias</th>\n",
       "      <th>meses</th>\n",
       "    </tr>\n",
       "  </thead>\n",
       "  <tbody>\n",
       "    <tr>\n",
       "      <th>0</th>\n",
       "      <td>2020-06-01</td>\n",
       "      <td>2020</td>\n",
       "      <td>6</td>\n",
       "      <td>Data Scientist</td>\n",
       "      <td>MI</td>\n",
       "      <td>FT</td>\n",
       "      <td>DE</td>\n",
       "      <td>70000</td>\n",
       "      <td>EUR</td>\n",
       "      <td>79833</td>\n",
       "      <td>0</td>\n",
       "      <td>DE</td>\n",
       "      <td>L</td>\n",
       "      <td>2</td>\n",
       "      <td>2022-12-01</td>\n",
       "      <td>913 days</td>\n",
       "      <td>913.0</td>\n",
       "      <td>30.0</td>\n",
       "    </tr>\n",
       "    <tr>\n",
       "      <th>1</th>\n",
       "      <td>2020-11-01</td>\n",
       "      <td>2020</td>\n",
       "      <td>11</td>\n",
       "      <td>Machine Learning Scientist</td>\n",
       "      <td>SE</td>\n",
       "      <td>FT</td>\n",
       "      <td>JP</td>\n",
       "      <td>260000</td>\n",
       "      <td>USD</td>\n",
       "      <td>260000</td>\n",
       "      <td>0</td>\n",
       "      <td>JP</td>\n",
       "      <td>S</td>\n",
       "      <td>4</td>\n",
       "      <td>2022-12-01</td>\n",
       "      <td>760 days</td>\n",
       "      <td>760.0</td>\n",
       "      <td>25.0</td>\n",
       "    </tr>\n",
       "    <tr>\n",
       "      <th>2</th>\n",
       "      <td>2020-12-01</td>\n",
       "      <td>2020</td>\n",
       "      <td>12</td>\n",
       "      <td>Big Data Engineer</td>\n",
       "      <td>SE</td>\n",
       "      <td>FT</td>\n",
       "      <td>GB</td>\n",
       "      <td>85000</td>\n",
       "      <td>GBP</td>\n",
       "      <td>109024</td>\n",
       "      <td>50</td>\n",
       "      <td>GB</td>\n",
       "      <td>M</td>\n",
       "      <td>3</td>\n",
       "      <td>2022-12-01</td>\n",
       "      <td>730 days</td>\n",
       "      <td>730.0</td>\n",
       "      <td>24.0</td>\n",
       "    </tr>\n",
       "    <tr>\n",
       "      <th>3</th>\n",
       "      <td>2020-06-01</td>\n",
       "      <td>2020</td>\n",
       "      <td>6</td>\n",
       "      <td>Product Data Analyst</td>\n",
       "      <td>MI</td>\n",
       "      <td>FT</td>\n",
       "      <td>HN</td>\n",
       "      <td>20000</td>\n",
       "      <td>USD</td>\n",
       "      <td>20000</td>\n",
       "      <td>0</td>\n",
       "      <td>HN</td>\n",
       "      <td>S</td>\n",
       "      <td>1</td>\n",
       "      <td>2022-12-01</td>\n",
       "      <td>913 days</td>\n",
       "      <td>913.0</td>\n",
       "      <td>30.0</td>\n",
       "    </tr>\n",
       "    <tr>\n",
       "      <th>4</th>\n",
       "      <td>2020-10-01</td>\n",
       "      <td>2020</td>\n",
       "      <td>10</td>\n",
       "      <td>Machine Learning Engineer</td>\n",
       "      <td>SE</td>\n",
       "      <td>FT</td>\n",
       "      <td>US</td>\n",
       "      <td>150000</td>\n",
       "      <td>USD</td>\n",
       "      <td>150000</td>\n",
       "      <td>50</td>\n",
       "      <td>US</td>\n",
       "      <td>L</td>\n",
       "      <td>3</td>\n",
       "      <td>2022-12-01</td>\n",
       "      <td>791 days</td>\n",
       "      <td>791.0</td>\n",
       "      <td>26.0</td>\n",
       "    </tr>\n",
       "    <tr>\n",
       "      <th>...</th>\n",
       "      <td>...</td>\n",
       "      <td>...</td>\n",
       "      <td>...</td>\n",
       "      <td>...</td>\n",
       "      <td>...</td>\n",
       "      <td>...</td>\n",
       "      <td>...</td>\n",
       "      <td>...</td>\n",
       "      <td>...</td>\n",
       "      <td>...</td>\n",
       "      <td>...</td>\n",
       "      <td>...</td>\n",
       "      <td>...</td>\n",
       "      <td>...</td>\n",
       "      <td>...</td>\n",
       "      <td>...</td>\n",
       "      <td>...</td>\n",
       "      <td>...</td>\n",
       "    </tr>\n",
       "    <tr>\n",
       "      <th>602</th>\n",
       "      <td>2022-05-01</td>\n",
       "      <td>2022</td>\n",
       "      <td>5</td>\n",
       "      <td>Data Engineer</td>\n",
       "      <td>SE</td>\n",
       "      <td>FT</td>\n",
       "      <td>US</td>\n",
       "      <td>154000</td>\n",
       "      <td>USD</td>\n",
       "      <td>154000</td>\n",
       "      <td>100</td>\n",
       "      <td>US</td>\n",
       "      <td>M</td>\n",
       "      <td>4</td>\n",
       "      <td>2022-12-01</td>\n",
       "      <td>214 days</td>\n",
       "      <td>214.0</td>\n",
       "      <td>7.0</td>\n",
       "    </tr>\n",
       "    <tr>\n",
       "      <th>603</th>\n",
       "      <td>2022-06-01</td>\n",
       "      <td>2022</td>\n",
       "      <td>6</td>\n",
       "      <td>Data Engineer</td>\n",
       "      <td>SE</td>\n",
       "      <td>FT</td>\n",
       "      <td>US</td>\n",
       "      <td>126000</td>\n",
       "      <td>USD</td>\n",
       "      <td>126000</td>\n",
       "      <td>100</td>\n",
       "      <td>US</td>\n",
       "      <td>M</td>\n",
       "      <td>3</td>\n",
       "      <td>2022-12-01</td>\n",
       "      <td>183 days</td>\n",
       "      <td>183.0</td>\n",
       "      <td>6.0</td>\n",
       "    </tr>\n",
       "    <tr>\n",
       "      <th>604</th>\n",
       "      <td>2022-11-01</td>\n",
       "      <td>2022</td>\n",
       "      <td>11</td>\n",
       "      <td>Data Analyst</td>\n",
       "      <td>SE</td>\n",
       "      <td>FT</td>\n",
       "      <td>US</td>\n",
       "      <td>129000</td>\n",
       "      <td>USD</td>\n",
       "      <td>129000</td>\n",
       "      <td>0</td>\n",
       "      <td>US</td>\n",
       "      <td>M</td>\n",
       "      <td>3</td>\n",
       "      <td>2022-12-01</td>\n",
       "      <td>30 days</td>\n",
       "      <td>30.0</td>\n",
       "      <td>1.0</td>\n",
       "    </tr>\n",
       "    <tr>\n",
       "      <th>605</th>\n",
       "      <td>2022-02-01</td>\n",
       "      <td>2022</td>\n",
       "      <td>2</td>\n",
       "      <td>Data Analyst</td>\n",
       "      <td>SE</td>\n",
       "      <td>FT</td>\n",
       "      <td>US</td>\n",
       "      <td>150000</td>\n",
       "      <td>USD</td>\n",
       "      <td>150000</td>\n",
       "      <td>100</td>\n",
       "      <td>US</td>\n",
       "      <td>M</td>\n",
       "      <td>3</td>\n",
       "      <td>2022-12-01</td>\n",
       "      <td>303 days</td>\n",
       "      <td>303.0</td>\n",
       "      <td>10.0</td>\n",
       "    </tr>\n",
       "    <tr>\n",
       "      <th>606</th>\n",
       "      <td>2022-03-01</td>\n",
       "      <td>2022</td>\n",
       "      <td>3</td>\n",
       "      <td>AI Scientist</td>\n",
       "      <td>MI</td>\n",
       "      <td>FT</td>\n",
       "      <td>IN</td>\n",
       "      <td>200000</td>\n",
       "      <td>USD</td>\n",
       "      <td>200000</td>\n",
       "      <td>100</td>\n",
       "      <td>US</td>\n",
       "      <td>L</td>\n",
       "      <td>4</td>\n",
       "      <td>2022-12-01</td>\n",
       "      <td>275 days</td>\n",
       "      <td>275.0</td>\n",
       "      <td>9.0</td>\n",
       "    </tr>\n",
       "  </tbody>\n",
       "</table>\n",
       "<p>607 rows × 18 columns</p>\n",
       "</div>"
      ],
      "text/plain": [
       "          data  work_year  work_month                   job_title  \\\n",
       "0   2020-06-01       2020           6              Data Scientist   \n",
       "1   2020-11-01       2020          11  Machine Learning Scientist   \n",
       "2   2020-12-01       2020          12           Big Data Engineer   \n",
       "3   2020-06-01       2020           6        Product Data Analyst   \n",
       "4   2020-10-01       2020          10   Machine Learning Engineer   \n",
       "..         ...        ...         ...                         ...   \n",
       "602 2022-05-01       2022           5               Data Engineer   \n",
       "603 2022-06-01       2022           6               Data Engineer   \n",
       "604 2022-11-01       2022          11                Data Analyst   \n",
       "605 2022-02-01       2022           2                Data Analyst   \n",
       "606 2022-03-01       2022           3                AI Scientist   \n",
       "\n",
       "    experience_level employment_type employee_residence  salary  \\\n",
       "0                 MI              FT                 DE   70000   \n",
       "1                 SE              FT                 JP  260000   \n",
       "2                 SE              FT                 GB   85000   \n",
       "3                 MI              FT                 HN   20000   \n",
       "4                 SE              FT                 US  150000   \n",
       "..               ...             ...                ...     ...   \n",
       "602               SE              FT                 US  154000   \n",
       "603               SE              FT                 US  126000   \n",
       "604               SE              FT                 US  129000   \n",
       "605               SE              FT                 US  150000   \n",
       "606               MI              FT                 IN  200000   \n",
       "\n",
       "    salary_currency  salary_in_usd  remote_ratio company_location  \\\n",
       "0               EUR          79833             0               DE   \n",
       "1               USD         260000             0               JP   \n",
       "2               GBP         109024            50               GB   \n",
       "3               USD          20000             0               HN   \n",
       "4               USD         150000            50               US   \n",
       "..              ...            ...           ...              ...   \n",
       "602             USD         154000           100               US   \n",
       "603             USD         126000           100               US   \n",
       "604             USD         129000             0               US   \n",
       "605             USD         150000           100               US   \n",
       "606             USD         200000           100               US   \n",
       "\n",
       "    company_size QUARTIL   data_max      aux   dias  meses  \n",
       "0              L       2 2022-12-01 913 days  913.0   30.0  \n",
       "1              S       4 2022-12-01 760 days  760.0   25.0  \n",
       "2              M       3 2022-12-01 730 days  730.0   24.0  \n",
       "3              S       1 2022-12-01 913 days  913.0   30.0  \n",
       "4              L       3 2022-12-01 791 days  791.0   26.0  \n",
       "..           ...     ...        ...      ...    ...    ...  \n",
       "602            M       4 2022-12-01 214 days  214.0    7.0  \n",
       "603            M       3 2022-12-01 183 days  183.0    6.0  \n",
       "604            M       3 2022-12-01  30 days   30.0    1.0  \n",
       "605            M       3 2022-12-01 303 days  303.0   10.0  \n",
       "606            L       4 2022-12-01 275 days  275.0    9.0  \n",
       "\n",
       "[607 rows x 18 columns]"
      ]
     },
     "execution_count": 24,
     "metadata": {},
     "output_type": "execute_result"
    }
   ],
   "source": [
    "df"
   ]
  },
  {
   "cell_type": "code",
   "execution_count": null,
   "id": "182e4eed-db5c-4c80-9f33-84c0d85adfe0",
   "metadata": {},
   "outputs": [],
   "source": []
  }
 ],
 "metadata": {
  "kernelspec": {
   "display_name": "Python 3 (ipykernel)",
   "language": "python",
   "name": "python3"
  },
  "language_info": {
   "codemirror_mode": {
    "name": "ipython",
    "version": 3
   },
   "file_extension": ".py",
   "mimetype": "text/x-python",
   "name": "python",
   "nbconvert_exporter": "python",
   "pygments_lexer": "ipython3",
   "version": "3.9.2"
  }
 },
 "nbformat": 4,
 "nbformat_minor": 5
}
