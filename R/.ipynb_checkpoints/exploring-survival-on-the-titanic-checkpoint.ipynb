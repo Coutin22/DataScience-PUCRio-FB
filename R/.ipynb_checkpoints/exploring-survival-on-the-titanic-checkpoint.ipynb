{
 "cells": [
  {
   "cell_type": "markdown",
   "id": "3784a8ac",
   "metadata": {},
   "source": [
    "# Introduction"
   ]
  },
  {
   "cell_type": "code",
   "execution_count": 1,
   "id": "189b7fef",
   "metadata": {
    "jupyter": {
     "source_hidden": true
    },
    "kernel": "Markdown",
    "tags": [
     "report_output"
    ]
   },
   "outputs": [],
   "source": [
    "%expand `r ` --in R\n",
    "This is my first stab at a Kaggle script. I have chosen to work with the Titanic dataset after spending some time poking around on the site and looking at other scripts made by other Kagglers for inspiration. I will also focus on doing some illustrative data visualizations along the way. I'll then use `randomForest` to create a model predicting survival on the Titanic. I am new to machine learning and hoping to learn a lot, so feedback is very welcome!\n",
    "\n",
    "There are three parts to my script as follows:\n",
    "\n",
    "* Feature engineering\n",
    "* Missing value imputation\n",
    "* Prediction!"
   ]
  },
  {
   "cell_type": "markdown",
   "id": "688941ee",
   "metadata": {},
   "source": [
    "## Load and check data"
   ]
  },
  {
   "cell_type": "code",
   "execution_count": 2,
   "id": "571d763e",
   "metadata": {
    "Rmd_chunk_options": "message = FALSE",
    "kernel": "R",
    "tags": [
     "report_cell"
    ]
   },
   "outputs": [],
   "source": [
    "# Load packages\n",
    "library('ggplot2') # visualization\n",
    "library('ggthemes') # visualization\n",
    "library('scales') # visualization\n",
    "library('dplyr') # data manipulation\n",
    "library('mice') # imputation\n",
    "library('randomForest') # classification algorithm"
   ]
  },
  {
   "cell_type": "markdown",
   "id": "4a0cd69e",
   "metadata": {},
   "source": [
    "Now that our packages are loaded, let's read in and take a peek at the data."
   ]
  },
  {
   "cell_type": "code",
   "execution_count": 3,
   "id": "02fbffca",
   "metadata": {
    "Rmd_chunk_options": "message=FALSE, warning=FALSE",
    "kernel": "R",
    "tags": [
     "report_cell"
    ]
   },
   "outputs": [],
   "source": [
    "train <- read.csv('../input/train.csv', stringsAsFactors = F)\n",
    "test  <- read.csv('../input/test.csv', stringsAsFactors = F)\n",
    "\n",
    "full  <- bind_rows(train, test) # bind training & test data\n",
    "\n",
    "# check data\n",
    "str(full)"
   ]
  },
  {
   "cell_type": "markdown",
   "id": "256f1fb2",
   "metadata": {},
   "source": [
    "We've got a sense of our variables, their class type, and the first few observations of each. We know we're working with 1309 observations of 12 variables. To make things a bit more explicit since a couple of the variable names aren't 100% illuminating, here's what we've got to deal with:\n",
    "\n",
    "Variable Name | Description\n",
    "--------------|-------------\n",
    "Survived      | Survived (1) or died (0)\n",
    "Pclass        | Passenger's class\n",
    "Name          | Passenger's name\n",
    "Sex           | Passenger's sex\n",
    "Age           | Passenger's age\n",
    "SibSp         | Number of siblings/spouses aboard\n",
    "Parch         | Number of parents/children aboard\n",
    "Ticket        | Ticket number\n",
    "Fare          | Fare\n",
    "Cabin         | Cabin\n",
    "Embarked      | Port of embarkation"
   ]
  },
  {
   "cell_type": "markdown",
   "id": "e51e50fa",
   "metadata": {},
   "source": [
    "# Feature Engineering"
   ]
  },
  {
   "cell_type": "markdown",
   "id": "bc03aa24",
   "metadata": {},
   "source": [
    "## What's in a name?"
   ]
  },
  {
   "cell_type": "markdown",
   "id": "9545dbdf",
   "metadata": {},
   "source": [
    "The first variable which catches my attention is **passenger name** because we can break it down into additional meaningful variables which can feed predictions or be used in the creation of additional new variables. For instance, **passenger title** is contained within the passenger name variable and we can use **surname** to represent families. Let's do some **feature engineering**!"
   ]
  },
  {
   "cell_type": "code",
   "execution_count": 4,
   "id": "f330e1a0",
   "metadata": {
    "Rmd_chunk_options": "message=FALSE, warning=FALSE",
    "kernel": "R",
    "tags": [
     "report_cell"
    ]
   },
   "outputs": [],
   "source": [
    "# Grab title from passenger names\n",
    "full$Title <- gsub('(.*, )|(\\\\..*)', '', full$Name)\n",
    "\n",
    "# Show title counts by sex\n",
    "table(full$Sex, full$Title)\n",
    "\n",
    "# Titles with very low cell counts to be combined to \"rare\" level\n",
    "rare_title <- c('Dona', 'Lady', 'the Countess','Capt', 'Col', 'Don',\n",
    "                'Dr', 'Major', 'Rev', 'Sir', 'Jonkheer')\n",
    "\n",
    "# Also reassign mlle, ms, and mme accordingly\n",
    "full$Title[full$Title == 'Mlle']        <- 'Miss'\n",
    "full$Title[full$Title == 'Ms']          <- 'Miss'\n",
    "full$Title[full$Title == 'Mme']         <- 'Mrs'\n",
    "full$Title[full$Title %in% rare_title]  <- 'Rare Title'\n",
    "\n",
    "# Show title counts by sex again\n",
    "table(full$Sex, full$Title)\n",
    "\n",
    "# Finally, grab surname from passenger name\n",
    "full$Surname <- sapply(full$Name,\n",
    "                      function(x) strsplit(x, split = '[,.]')[[1]][1])"
   ]
  },
  {
   "cell_type": "code",
   "execution_count": 5,
   "id": "263391ed",
   "metadata": {
    "Rmd_chunk_options": "results='asis'",
    "kernel": "R",
    "tags": [
     "report_cell"
    ]
   },
   "outputs": [],
   "source": [
    "cat(paste('We have <b>', nlevels(factor(full$Surname)), '</b> unique surnames. I would be interested to infer ethnicity based on surname --- another time.'))"
   ]
  },
  {
   "cell_type": "markdown",
   "id": "55a555fa",
   "metadata": {},
   "source": [
    "## Do families sink or swim together?"
   ]
  },
  {
   "cell_type": "markdown",
   "id": "e30acd73",
   "metadata": {},
   "source": [
    "Now that we've taken care of splitting passenger name into some new variables, we can take it a step further and make some new family variables. First we're going to make a **family size** variable based on number of siblings/spouse(s) (maybe someone has more than one spouse?) and number of children/parents."
   ]
  },
  {
   "cell_type": "code",
   "execution_count": 6,
   "id": "b5699dd5",
   "metadata": {
    "kernel": "R",
    "tags": [
     "report_cell"
    ]
   },
   "outputs": [],
   "source": [
    "# Create a family size variable including the passenger themselves\n",
    "full$Fsize <- full$SibSp + full$Parch + 1\n",
    "\n",
    "# Create a family variable\n",
    "full$Family <- paste(full$Surname, full$Fsize, sep='_')"
   ]
  },
  {
   "cell_type": "markdown",
   "id": "f5b1337f",
   "metadata": {},
   "source": [
    "What does our family size variable look like? To help us understand how it may relate to survival, let's plot it among the training data."
   ]
  },
  {
   "cell_type": "code",
   "execution_count": 7,
   "id": "c09c8f4d",
   "metadata": {
    "Rmd_chunk_options": "message=FALSE, warning=FALSE",
    "kernel": "R",
    "tags": [
     "report_cell"
    ]
   },
   "outputs": [],
   "source": [
    "# Use ggplot2 to visualize the relationship between family size & survival\n",
    "ggplot(full[1:891,], aes(x = Fsize, fill = factor(Survived))) +\n",
    "  geom_bar(stat='count', position='dodge') +\n",
    "  scale_x_continuous(breaks=c(1:11)) +\n",
    "  labs(x = 'Family Size') +\n",
    "  theme_few()"
   ]
  },
  {
   "cell_type": "markdown",
   "id": "9f1486cf",
   "metadata": {},
   "source": [
    "Ah hah. We can see that there's a survival penalty to singletons and those with family sizes above 4. We can collapse this variable into three levels which will be helpful since there are comparatively fewer large families. Let's create a **discretized family size** variable."
   ]
  },
  {
   "cell_type": "code",
   "execution_count": 8,
   "id": "2417d832",
   "metadata": {
    "kernel": "R",
    "tags": [
     "report_cell"
    ]
   },
   "outputs": [],
   "source": [
    "# Discretize family size\n",
    "full$FsizeD[full$Fsize == 1] <- 'singleton'\n",
    "full$FsizeD[full$Fsize < 5 & full$Fsize > 1] <- 'small'\n",
    "full$FsizeD[full$Fsize > 4] <- 'large'\n",
    "\n",
    "# Show family size by survival using a mosaic plot\n",
    "mosaicplot(table(full$FsizeD, full$Survived), main='Family Size by Survival', shade=TRUE)"
   ]
  },
  {
   "cell_type": "code",
   "execution_count": 9,
   "id": "bd785d90",
   "metadata": {
    "jupyter": {
     "source_hidden": true
    },
    "kernel": "Markdown",
    "tags": [
     "report_output"
    ]
   },
   "outputs": [],
   "source": [
    "%expand `r ` --in R\n",
    "The mosaic plot shows that we preserve our rule that there's a survival penalty among singletons and large families, but a benefit for passengers in small families. I want to do something further with our age variable, but `r sum(is.na(full$Age))` rows have missing age values, so we will have to wait until after we address missingness."
   ]
  },
  {
   "cell_type": "markdown",
   "id": "c9317ae1",
   "metadata": {},
   "source": [
    "## Treat a few more variables ..."
   ]
  },
  {
   "cell_type": "markdown",
   "id": "7bcb2572",
   "metadata": {},
   "source": [
    "What's left? There's probably some potentially useful information in the **passenger cabin** variable including about their **deck**. Let's take a look."
   ]
  },
  {
   "cell_type": "code",
   "execution_count": 10,
   "id": "8fb995e7",
   "metadata": {
    "kernel": "R",
    "tags": [
     "report_cell"
    ]
   },
   "outputs": [],
   "source": [
    "# This variable appears to have a lot of missing values\n",
    "full$Cabin[1:28]\n",
    "\n",
    "# The first character is the deck. For example:\n",
    "strsplit(full$Cabin[2], NULL)[[1]]\n",
    "\n",
    "# Create a Deck variable. Get passenger deck A - F:\n",
    "full$Deck<-factor(sapply(full$Cabin, function(x) strsplit(x, NULL)[[1]][1]))"
   ]
  },
  {
   "cell_type": "markdown",
   "id": "96e882ef",
   "metadata": {},
   "source": [
    "There's more that likely could be done here including looking into cabins with multiple rooms listed (e.g., row 28: \"C23 C25 C27\"), but given the sparseness of the column we'll stop here."
   ]
  },
  {
   "cell_type": "markdown",
   "id": "234303d0",
   "metadata": {},
   "source": [
    "# Missingness"
   ]
  },
  {
   "cell_type": "markdown",
   "id": "3663340c",
   "metadata": {},
   "source": [
    "Now we're ready to start exploring missing data and rectifying it through imputation. There are a number of different ways we could go about doing this. Given the small size of the dataset, we probably should not opt for deleting either entire observations (rows) or variables (columns) containing missing values. We're left with the option of either replacing missing values with a sensible values given the distribution of the data, e.g., the mean, median or mode. Finally, we could go with prediction. We'll use both of the two latter methods and I'll rely on some data visualization to guide our decisions."
   ]
  },
  {
   "cell_type": "markdown",
   "id": "4a6ed3d9",
   "metadata": {},
   "source": [
    "## Sensible value imputation"
   ]
  },
  {
   "cell_type": "code",
   "execution_count": 11,
   "id": "c7ce39b8",
   "metadata": {
    "kernel": "R",
    "tags": [
     "report_cell"
    ]
   },
   "outputs": [],
   "source": [
    "# Passengers 62 and 830 are missing Embarkment\n",
    "full[c(62, 830), 'Embarked']"
   ]
  },
  {
   "cell_type": "code",
   "execution_count": 12,
   "id": "e3ce1c5f",
   "metadata": {
    "Rmd_chunk_options": "results='asis'",
    "kernel": "R",
    "tags": [
     "report_cell"
    ]
   },
   "outputs": [],
   "source": [
    "cat(paste('We will infer their values for **embarkment** based on present data that we can imagine may be relevant: **passenger class** and **fare**. We see that they paid<b> $', full[c(62, 830), 'Fare'][[1]][1], '</b>and<b> $', full[c(62, 830), 'Fare'][[1]][2], '</b>respectively and their classes are<b>', full[c(62, 830), 'Pclass'][[1]][1], '</b>and<b>', full[c(62, 830), 'Pclass'][[1]][2], '</b>. So from where did they embark?'))"
   ]
  },
  {
   "cell_type": "code",
   "execution_count": 13,
   "id": "5d1ee4f4",
   "metadata": {
    "Rmd_chunk_options": "message=FALSE, warning=FALSE",
    "kernel": "R",
    "tags": [
     "report_cell"
    ]
   },
   "outputs": [],
   "source": [
    "# Get rid of our missing passenger IDs\n",
    "embark_fare <- full %>%\n",
    "  filter(PassengerId != 62 & PassengerId != 830)\n",
    "\n",
    "# Use ggplot2 to visualize embarkment, passenger class, & median fare\n",
    "ggplot(embark_fare, aes(x = Embarked, y = Fare, fill = factor(Pclass))) +\n",
    "  geom_boxplot() +\n",
    "  geom_hline(aes(yintercept=80),\n",
    "    colour='red', linetype='dashed', lwd=2) +\n",
    "  scale_y_continuous(labels=dollar_format()) +\n",
    "  theme_few()"
   ]
  },
  {
   "cell_type": "markdown",
   "id": "3fd985fa",
   "metadata": {},
   "source": [
    "Voilà! The median fare for a first class passenger departing from Charbourg ('C') coincides nicely with the $80 paid by our embarkment-deficient passengers. I think we can safely replace the NA values with 'C'."
   ]
  },
  {
   "cell_type": "code",
   "execution_count": 14,
   "id": "2ebc6a3d",
   "metadata": {
    "kernel": "R",
    "tags": [
     "report_cell"
    ]
   },
   "outputs": [],
   "source": [
    "# Since their fare was $80 for 1st class, they most likely embarked from 'C'\n",
    "full$Embarked[c(62, 830)] <- 'C'"
   ]
  },
  {
   "cell_type": "markdown",
   "id": "c27ac06e",
   "metadata": {},
   "source": [
    "We're close to fixing the handful of NA values here and there. Passenger on row 1044 has an NA Fare value."
   ]
  },
  {
   "cell_type": "code",
   "execution_count": 15,
   "id": "47850a4d",
   "metadata": {
    "Rmd_chunk_options": "message=FALSE, warning=FALSE",
    "kernel": "R",
    "tags": [
     "report_cell"
    ]
   },
   "outputs": [],
   "source": [
    "# Show row 1044\n",
    "full[1044, ]"
   ]
  },
  {
   "cell_type": "code",
   "execution_count": 16,
   "id": "83d7dc99",
   "metadata": {
    "jupyter": {
     "source_hidden": true
    },
    "kernel": "Markdown",
    "tags": [
     "report_output"
    ]
   },
   "outputs": [],
   "source": [
    "%expand `r ` --in R\n",
    "This is a third class passenger who departed from Southampton ('S'). Let's visualize Fares among all others sharing their class and embarkment (n = `r nrow(full[full$Pclass == '3' & full$Embarked == 'S', ]) - 1`)."
   ]
  },
  {
   "cell_type": "code",
   "execution_count": 17,
   "id": "87776133",
   "metadata": {
    "Rmd_chunk_options": "message=FALSE, warning=FALSE",
    "jupyter": {
     "source_hidden": true
    },
    "kernel": "R",
    "tags": [
     "report_cell"
    ]
   },
   "outputs": [],
   "source": [
    "ggplot(full[full$Pclass == '3' & full$Embarked == 'S', ],\n",
    "  aes(x = Fare)) +\n",
    "  geom_density(fill = '#99d6ff', alpha=0.4) +\n",
    "  geom_vline(aes(xintercept=median(Fare, na.rm=T)),\n",
    "    colour='red', linetype='dashed', lwd=1) +\n",
    "  scale_x_continuous(labels=dollar_format()) +\n",
    "  theme_few()"
   ]
  },
  {
   "cell_type": "code",
   "execution_count": 18,
   "id": "6a1f72e4",
   "metadata": {
    "jupyter": {
     "source_hidden": true
    },
    "kernel": "Markdown",
    "tags": [
     "report_output"
    ]
   },
   "outputs": [],
   "source": [
    "%expand `r ` --in R\n",
    "From this visualization, it seems quite reasonable to replace the NA Fare value with median for their class and embarkment which is $`r  median(full[full$Pclass == '3' & full$Embarked == 'S', ]$Fare, na.rm = TRUE)`."
   ]
  },
  {
   "cell_type": "code",
   "execution_count": 19,
   "id": "2a37a1ce",
   "metadata": {
    "jupyter": {
     "source_hidden": true
    },
    "kernel": "R",
    "tags": [
     "report_cell"
    ]
   },
   "outputs": [],
   "source": [
    "# Replace missing fare value with median fare for class/embarkment\n",
    "full$Fare[1044] <- median(full[full$Pclass == '3' & full$Embarked == 'S', ]$Fare, na.rm = TRUE)"
   ]
  },
  {
   "cell_type": "markdown",
   "id": "29e32ee4",
   "metadata": {},
   "source": [
    "## Predictive imputation"
   ]
  },
  {
   "cell_type": "markdown",
   "id": "21d6f57f",
   "metadata": {},
   "source": [
    "Finally, as we noted earlier, there are quite a few missing **Age** values in our data. We are going to get a bit more fancy in imputing missing age values. Why? Because we can. We will create a model predicting ages based on other variables."
   ]
  },
  {
   "cell_type": "code",
   "execution_count": 20,
   "id": "d9f23ccd",
   "metadata": {
    "kernel": "R",
    "tags": [
     "report_cell"
    ]
   },
   "outputs": [],
   "source": [
    "# Show number of missing Age values\n",
    "sum(is.na(full$Age))"
   ]
  },
  {
   "cell_type": "code",
   "execution_count": 21,
   "id": "923da08f",
   "metadata": {
    "jupyter": {
     "source_hidden": true
    },
    "kernel": "Markdown",
    "tags": [
     "report_output"
    ]
   },
   "outputs": [],
   "source": [
    "%expand `r ` --in R\n",
    "We could definitely use `rpart` (recursive partitioning for regression) to predict missing ages, but I'm going to use the `mice` package for this task just for something different. You can read more about multiple imputation using chained equations in r [here](http://www.jstatsoft.org/article/view/v045i03/v45i03.pdf) (PDF). Since we haven't done it yet, I'll first factorize the factor variables and then perform mice imputation."
   ]
  },
  {
   "cell_type": "code",
   "execution_count": 22,
   "id": "74cba038",
   "metadata": {
    "Rmd_chunk_options": "message=FALSE, warning=FALSE",
    "jupyter": {
     "source_hidden": true
    },
    "kernel": "R",
    "tags": [
     "report_cell"
    ]
   },
   "outputs": [],
   "source": [
    "# Make variables factors into factors\n",
    "factor_vars <- c('PassengerId','Pclass','Sex','Embarked',\n",
    "                 'Title','Surname','Family','FsizeD')\n",
    "\n",
    "full[factor_vars] <- lapply(full[factor_vars], function(x) as.factor(x))\n",
    "\n",
    "# Set a random seed\n",
    "set.seed(129)\n",
    "\n",
    "# Perform mice imputation, excluding certain less-than-useful variables:\n",
    "mice_mod <- mice(full[, !names(full) %in% c('PassengerId','Name','Ticket','Cabin','Family','Surname','Survived')], method='rf')\n",
    "\n",
    "# Save the complete output\n",
    "mice_output <- complete(mice_mod)"
   ]
  },
  {
   "cell_type": "markdown",
   "id": "63a86338",
   "metadata": {},
   "source": [
    "Let's compare the results we get with the original distribution of passenger ages to ensure that nothing has gone completely awry."
   ]
  },
  {
   "cell_type": "code",
   "execution_count": 23,
   "id": "62a5e2a6",
   "metadata": {
    "kernel": "R",
    "tags": [
     "report_cell"
    ]
   },
   "outputs": [],
   "source": [
    "# Plot age distributions\n",
    "par(mfrow=c(1,2))\n",
    "hist(full$Age, freq=F, main='Age: Original Data',\n",
    "  col='darkgreen', ylim=c(0,0.04))\n",
    "hist(mice_output$Age, freq=F, main='Age: MICE Output',\n",
    "  col='lightgreen', ylim=c(0,0.04))"
   ]
  },
  {
   "cell_type": "markdown",
   "id": "4f35f05e",
   "metadata": {},
   "source": [
    "Things look good, so let's replace our age vector in the original data with the output from the `mice` model."
   ]
  },
  {
   "cell_type": "code",
   "execution_count": 24,
   "id": "64d210f6",
   "metadata": {
    "kernel": "R",
    "tags": [
     "report_cell"
    ]
   },
   "outputs": [],
   "source": [
    "# Replace Age variable from the mice model.\n",
    "full$Age <- mice_output$Age\n",
    "\n",
    "# Show new number of missing Age values\n",
    "sum(is.na(full$Age))"
   ]
  },
  {
   "cell_type": "markdown",
   "id": "4ee93f55",
   "metadata": {},
   "source": [
    "We've finished imputing values for all variables that we care about for now! Now that we have a complete Age variable, there are just a few finishing touches I'd like to make. We can use Age to do just a bit more feature engineering ..."
   ]
  },
  {
   "cell_type": "markdown",
   "id": "aa9ccd09",
   "metadata": {},
   "source": [
    "## Feature Engineering: Round 2"
   ]
  },
  {
   "cell_type": "markdown",
   "id": "d0a49682",
   "metadata": {},
   "source": [
    "Now that we know everyone's age, we can create a couple of new age-dependent variables: **Child** and **Mother**. A child will simply be someone under 18 years of age and a mother is a passenger who is 1) female, 2) is over 18, 3) has more than 0 children (no kidding!), and 4) does not have the title 'Miss'."
   ]
  },
  {
   "cell_type": "code",
   "execution_count": 25,
   "id": "9fa7683b",
   "metadata": {
    "Rmd_chunk_options": "message=FALSE, warning=FALSE",
    "kernel": "R",
    "tags": [
     "report_cell"
    ]
   },
   "outputs": [],
   "source": [
    "# First we'll look at the relationship between age & survival\n",
    "ggplot(full[1:891,], aes(Age, fill = factor(Survived))) +\n",
    "  geom_histogram() +\n",
    "  # I include Sex since we know (a priori) it's a significant predictor\n",
    "  facet_grid(.~Sex) +\n",
    "  theme_few()\n",
    "\n",
    "# Create the column child, and indicate whether child or adult\n",
    "full$Child[full$Age < 18] <- 'Child'\n",
    "full$Child[full$Age >= 18] <- 'Adult'\n",
    "\n",
    "# Show counts\n",
    "table(full$Child, full$Survived)"
   ]
  },
  {
   "cell_type": "markdown",
   "id": "96b1ccc4",
   "metadata": {},
   "source": [
    "Looks like being a child doesn't hurt, but it's not going to necessarily save you either! We will finish off our feature engineering by creating the **Mother** variable. Maybe we can hope that mothers are more likely to have survived on the Titanic."
   ]
  },
  {
   "cell_type": "code",
   "execution_count": 26,
   "id": "9f76dd53",
   "metadata": {
    "kernel": "R",
    "tags": [
     "report_cell"
    ]
   },
   "outputs": [],
   "source": [
    "# Adding Mother variable\n",
    "full$Mother <- 'Not Mother'\n",
    "full$Mother[full$Sex == 'female' & full$Parch > 0 & full$Age > 18 & full$Title != 'Miss'] <- 'Mother'\n",
    "\n",
    "# Show counts\n",
    "table(full$Mother, full$Survived)\n",
    "\n",
    "# Finish by factorizing our two new factor variables\n",
    "full$Child  <- factor(full$Child)\n",
    "full$Mother <- factor(full$Mother)"
   ]
  },
  {
   "cell_type": "markdown",
   "id": "b5ab8be8",
   "metadata": {},
   "source": [
    "All of the variables we care about should be taken care of and there should be no missing data. I'm going to double check just to be sure:"
   ]
  },
  {
   "cell_type": "code",
   "execution_count": 27,
   "id": "905baec5",
   "metadata": {
    "kernel": "R",
    "tags": [
     "report_cell"
    ]
   },
   "outputs": [],
   "source": [
    "md.pattern(full)"
   ]
  },
  {
   "cell_type": "markdown",
   "id": "1acdf1d7",
   "metadata": {},
   "source": [
    "Wow! We have finally finished treating all of the relevant missing values in the Titanic dataset which has included some fancy imputation with `mice`. We have also successfully created several new variables which we hope will help us build a model which reliably predicts survival."
   ]
  },
  {
   "cell_type": "markdown",
   "id": "fc16a539",
   "metadata": {},
   "source": [
    "# Prediction"
   ]
  },
  {
   "cell_type": "code",
   "execution_count": 28,
   "id": "83def539",
   "metadata": {
    "jupyter": {
     "source_hidden": true
    },
    "kernel": "Markdown",
    "tags": [
     "report_output"
    ]
   },
   "outputs": [],
   "source": [
    "%expand `r ` --in R\n",
    "At last we're ready to predict who survives among passengers of the Titanic based on variables that we carefully curated and treated for missing values. For this, we will rely on the `randomForest` classification algorithm; we spent all that time on imputation, after all."
   ]
  },
  {
   "cell_type": "markdown",
   "id": "627143e8",
   "metadata": {},
   "source": [
    "## Split into training & test sets"
   ]
  },
  {
   "cell_type": "markdown",
   "id": "dfdf2f87",
   "metadata": {},
   "source": [
    "Our first step is to split the data back into the original test and training sets."
   ]
  },
  {
   "cell_type": "code",
   "execution_count": 29,
   "id": "d2835d63",
   "metadata": {
    "kernel": "R",
    "tags": [
     "report_cell"
    ]
   },
   "outputs": [],
   "source": [
    "# Split the data back into a train set and a test set\n",
    "train <- full[1:891,]\n",
    "test <- full[892:1309,]"
   ]
  },
  {
   "cell_type": "markdown",
   "id": "19816a4e",
   "metadata": {},
   "source": [
    "## Building the model"
   ]
  },
  {
   "cell_type": "code",
   "execution_count": 30,
   "id": "ec3c2f08",
   "metadata": {
    "jupyter": {
     "source_hidden": true
    },
    "kernel": "Markdown",
    "tags": [
     "report_output"
    ]
   },
   "outputs": [],
   "source": [
    "%expand `r ` --in R\n",
    "We then build our model using `randomForest` on the training set."
   ]
  },
  {
   "cell_type": "code",
   "execution_count": 31,
   "id": "c98a9d28",
   "metadata": {
    "jupyter": {
     "source_hidden": true
    },
    "kernel": "R",
    "tags": [
     "report_cell"
    ]
   },
   "outputs": [],
   "source": [
    "# Set a random seed\n",
    "set.seed(754)\n",
    "\n",
    "# Build the model (note: not all possible variables are used)\n",
    "rf_model <- randomForest(factor(Survived) ~ Pclass + Sex + Age + SibSp + Parch +\n",
    "                                            Fare + Embarked + Title +\n",
    "                                            FsizeD + Child + Mother,\n",
    "                                            data = train)\n",
    "\n",
    "# Show model error\n",
    "plot(rf_model, ylim=c(0,0.36))\n",
    "legend('topright', colnames(rf_model$err.rate), col=1:3, fill=1:3)"
   ]
  },
  {
   "cell_type": "markdown",
   "id": "d58a8551",
   "metadata": {},
   "source": [
    "The black line shows the overall error rate which falls below 20%. The red and green lines show the error rate for 'died' and 'survived' respectively. We can see that right now we're much more successful predicting death than we are survival. What does that say about me, I wonder?"
   ]
  },
  {
   "cell_type": "markdown",
   "id": "15601e53",
   "metadata": {},
   "source": [
    "## Variable importance"
   ]
  },
  {
   "cell_type": "markdown",
   "id": "77d3f9ca",
   "metadata": {},
   "source": [
    "Let's look at relative variable importance by plotting the mean decrease in Gini calculated across all trees."
   ]
  },
  {
   "cell_type": "code",
   "execution_count": 32,
   "id": "ba60e36f",
   "metadata": {
    "Rmd_chunk_options": "message=FALSE, warning=FALSE",
    "kernel": "R",
    "tags": [
     "report_cell"
    ]
   },
   "outputs": [],
   "source": [
    "# Get importance\n",
    "importance    <- importance(rf_model)\n",
    "varImportance <- data.frame(Variables = row.names(importance),\n",
    "                            Importance = round(importance[ ,'MeanDecreaseGini'],2))\n",
    "\n",
    "# Create a rank variable based on importance\n",
    "rankImportance <- varImportance %>%\n",
    "  mutate(Rank = paste0('#',dense_rank(desc(Importance))))\n",
    "\n",
    "# Use ggplot2 to visualize the relative importance of variables\n",
    "ggplot(rankImportance, aes(x = reorder(Variables, Importance),\n",
    "    y = Importance, fill = Importance)) +\n",
    "  geom_bar(stat='identity') +\n",
    "  geom_text(aes(x = Variables, y = 0.5, label = Rank),\n",
    "    hjust=0, vjust=0.55, size = 4, colour = 'red') +\n",
    "  labs(x = 'Variables') +\n",
    "  coord_flip() +\n",
    "  theme_few()"
   ]
  },
  {
   "cell_type": "code",
   "execution_count": 33,
   "id": "ff107aa9",
   "metadata": {
    "jupyter": {
     "source_hidden": true
    },
    "kernel": "Markdown",
    "tags": [
     "report_output"
    ]
   },
   "outputs": [],
   "source": [
    "%expand `r ` --in R\n",
    "Whoa, glad we made our title variable! It has the highest relative importance out of all of our predictor variables. I think I'm most surprised to see that passenger class fell to `r rankImportance[rankImportance$Variable == 'Pclass', ]$Rank`, but maybe that's just bias coming from watching the movie Titanic too many times as a kid."
   ]
  },
  {
   "cell_type": "markdown",
   "id": "65ead139",
   "metadata": {},
   "source": [
    "## Prediction!"
   ]
  },
  {
   "cell_type": "markdown",
   "id": "b60f4f1a",
   "metadata": {},
   "source": [
    "We're ready for the final step --- making our prediction! When we finish here, we could iterate through the preceding steps making tweaks as we go or fit the data using different models or use different combinations of variables to achieve better predictions. But this is a good starting (and stopping) point for me now."
   ]
  },
  {
   "cell_type": "code",
   "execution_count": 34,
   "id": "0f69ba26",
   "metadata": {
    "kernel": "R",
    "tags": [
     "report_cell"
    ]
   },
   "outputs": [],
   "source": [
    "# Predict using the test set\n",
    "prediction <- predict(rf_model, test)\n",
    "\n",
    "# Save the solution to a dataframe with two columns: PassengerId and Survived (prediction)\n",
    "solution <- data.frame(PassengerID = test$PassengerId, Survived = prediction)\n",
    "\n",
    "# Write the solution to file\n",
    "write.csv(solution, file = 'rf_mod_Solution.csv', row.names = F)"
   ]
  },
  {
   "cell_type": "markdown",
   "id": "92374aec",
   "metadata": {},
   "source": [
    "# Conclusion"
   ]
  },
  {
   "cell_type": "markdown",
   "id": "cb60399e",
   "metadata": {},
   "source": [
    "Thank you for taking the time to read through my first exploration of a Kaggle dataset. I look forward to doing more. Again, this newbie welcomes comments and suggestions!\n",
    "\n",
    "---"
   ]
  }
 ],
 "metadata": {
  "Rmd_chunk_options": {
   "author": "Megan L. Risdal",
   "date": "6 March 2016",
   "output": {
    "html_document": {
     "fig_height": 4.5,
     "fig_width": 7,
     "highlight": "tango",
     "number_sections": true,
     "theme": "readable",
     "toc": true
    }
   },
   "title": "Exploring the Titanic Dataset"
  },
  "kernelspec": {
   "display_name": "Python 3 (ipykernel)",
   "language": "python",
   "name": "python3"
  },
  "language_info": {
   "codemirror_mode": {
    "name": "ipython",
    "version": 3
   },
   "file_extension": ".py",
   "mimetype": "text/x-python",
   "name": "python",
   "nbconvert_exporter": "python",
   "pygments_lexer": "ipython3",
   "version": "3.10.4"
  },
  "sos": {
   "kernels": [
    [
     "SoS",
     "sos",
     "",
     ""
    ],
    [
     "R",
     "ir",
     "",
     ""
    ],
    [
     "Markdown",
     "markdown",
     "",
     ""
    ]
   ]
  }
 },
 "nbformat": 4,
 "nbformat_minor": 5
}
