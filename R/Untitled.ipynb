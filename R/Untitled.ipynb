{
 "cells": [
  {
   "cell_type": "code",
   "execution_count": 6,
   "id": "67b1d3e5",
   "metadata": {},
   "outputs": [
    {
     "name": "stdout",
     "output_type": "stream",
     "text": [
      "Collecting notedown\n",
      "  Downloading notedown-1.5.1-py3-none-any.whl (19 kB)\n",
      "Requirement already satisfied: nbformat in c:\\users\\xx-re\\appdata\\local\\programs\\python\\python310\\lib\\site-packages (from notedown) (5.3.0)\n",
      "Requirement already satisfied: six in c:\\users\\xx-re\\appdata\\local\\programs\\python\\python310\\lib\\site-packages (from notedown) (1.16.0)\n",
      "Requirement already satisfied: nbconvert in c:\\users\\xx-re\\appdata\\local\\programs\\python\\python310\\lib\\site-packages (from notedown) (6.5.0)\n",
      "Collecting pandoc-attributes\n",
      "  Downloading pandoc-attributes-0.1.7.tar.gz (2.6 kB)\n",
      "  Preparing metadata (setup.py): started\n",
      "  Preparing metadata (setup.py): finished with status 'done'\n",
      "Requirement already satisfied: mistune<2,>=0.8.1 in c:\\users\\xx-re\\appdata\\local\\programs\\python\\python310\\lib\\site-packages (from nbconvert->notedown) (0.8.4)\n",
      "Requirement already satisfied: nbclient>=0.5.0 in c:\\users\\xx-re\\appdata\\local\\programs\\python\\python310\\lib\\site-packages (from nbconvert->notedown) (0.6.0)\n",
      "Requirement already satisfied: jupyterlab-pygments in c:\\users\\xx-re\\appdata\\local\\programs\\python\\python310\\lib\\site-packages (from nbconvert->notedown) (0.2.2)\n",
      "Requirement already satisfied: bleach in c:\\users\\xx-re\\appdata\\local\\programs\\python\\python310\\lib\\site-packages (from nbconvert->notedown) (5.0.0)\n",
      "Requirement already satisfied: packaging in c:\\users\\xx-re\\appdata\\local\\programs\\python\\python310\\lib\\site-packages (from nbconvert->notedown) (21.3)\n",
      "Requirement already satisfied: traitlets>=5.0 in c:\\users\\xx-re\\appdata\\local\\programs\\python\\python310\\lib\\site-packages (from nbconvert->notedown) (5.1.1)\n",
      "Requirement already satisfied: jinja2>=3.0 in c:\\users\\xx-re\\appdata\\local\\programs\\python\\python310\\lib\\site-packages (from nbconvert->notedown) (3.1.1)\n",
      "Requirement already satisfied: entrypoints>=0.2.2 in c:\\users\\xx-re\\appdata\\local\\programs\\python\\python310\\lib\\site-packages (from nbconvert->notedown) (0.4)\n",
      "Requirement already satisfied: defusedxml in c:\\users\\xx-re\\appdata\\local\\programs\\python\\python310\\lib\\site-packages (from nbconvert->notedown) (0.7.1)\n",
      "Requirement already satisfied: pandocfilters>=1.4.1 in c:\\users\\xx-re\\appdata\\local\\programs\\python\\python310\\lib\\site-packages (from nbconvert->notedown) (1.5.0)\n",
      "Requirement already satisfied: MarkupSafe>=2.0 in c:\\users\\xx-re\\appdata\\local\\programs\\python\\python310\\lib\\site-packages (from nbconvert->notedown) (2.1.1)\n",
      "Requirement already satisfied: tinycss2 in c:\\users\\xx-re\\appdata\\local\\programs\\python\\python310\\lib\\site-packages (from nbconvert->notedown) (1.1.1)\n",
      "Requirement already satisfied: beautifulsoup4 in c:\\users\\xx-re\\appdata\\local\\programs\\python\\python310\\lib\\site-packages (from nbconvert->notedown) (4.11.1)\n",
      "Requirement already satisfied: pygments>=2.4.1 in c:\\users\\xx-re\\appdata\\local\\programs\\python\\python310\\lib\\site-packages (from nbconvert->notedown) (2.12.0)\n",
      "Requirement already satisfied: jupyter-core>=4.7 in c:\\users\\xx-re\\appdata\\local\\programs\\python\\python310\\lib\\site-packages (from nbconvert->notedown) (4.10.0)\n",
      "Requirement already satisfied: jsonschema>=2.6 in c:\\users\\xx-re\\appdata\\local\\programs\\python\\python310\\lib\\site-packages (from nbformat->notedown) (4.4.0)\n",
      "Requirement already satisfied: fastjsonschema in c:\\users\\xx-re\\appdata\\local\\programs\\python\\python310\\lib\\site-packages (from nbformat->notedown) (2.15.3)\n",
      "Requirement already satisfied: pyrsistent!=0.17.0,!=0.17.1,!=0.17.2,>=0.14.0 in c:\\users\\xx-re\\appdata\\local\\programs\\python\\python310\\lib\\site-packages (from jsonschema>=2.6->nbformat->notedown) (0.18.1)\n",
      "Requirement already satisfied: attrs>=17.4.0 in c:\\users\\xx-re\\appdata\\local\\programs\\python\\python310\\lib\\site-packages (from jsonschema>=2.6->nbformat->notedown) (21.4.0)\n",
      "Requirement already satisfied: pywin32>=1.0 in c:\\users\\xx-re\\appdata\\local\\programs\\python\\python310\\lib\\site-packages (from jupyter-core>=4.7->nbconvert->notedown) (303)\n",
      "Requirement already satisfied: jupyter-client>=6.1.5 in c:\\users\\xx-re\\appdata\\roaming\\python\\python310\\site-packages (from nbclient>=0.5.0->nbconvert->notedown) (7.3.4)\n",
      "Requirement already satisfied: nest-asyncio in c:\\users\\xx-re\\appdata\\local\\programs\\python\\python310\\lib\\site-packages (from nbclient>=0.5.0->nbconvert->notedown) (1.5.5)\n",
      "Requirement already satisfied: soupsieve>1.2 in c:\\users\\xx-re\\appdata\\local\\programs\\python\\python310\\lib\\site-packages (from beautifulsoup4->nbconvert->notedown) (2.3.2.post1)\n",
      "Requirement already satisfied: webencodings in c:\\users\\xx-re\\appdata\\local\\programs\\python\\python310\\lib\\site-packages (from bleach->nbconvert->notedown) (0.5.1)\n",
      "Requirement already satisfied: pyparsing!=3.0.5,>=2.0.2 in c:\\users\\xx-re\\appdata\\local\\programs\\python\\python310\\lib\\site-packages (from packaging->nbconvert->notedown) (3.0.8)\n",
      "Requirement already satisfied: pyzmq>=23.0 in c:\\users\\xx-re\\appdata\\local\\programs\\python\\python310\\lib\\site-packages (from jupyter-client>=6.1.5->nbclient>=0.5.0->nbconvert->notedown) (23.2.0)\n",
      "Requirement already satisfied: python-dateutil>=2.8.2 in c:\\users\\xx-re\\appdata\\local\\programs\\python\\python310\\lib\\site-packages (from jupyter-client>=6.1.5->nbclient>=0.5.0->nbconvert->notedown) (2.8.2)\n",
      "Requirement already satisfied: tornado>=6.0 in c:\\users\\xx-re\\appdata\\local\\programs\\python\\python310\\lib\\site-packages (from jupyter-client>=6.1.5->nbclient>=0.5.0->nbconvert->notedown) (6.1)\n",
      "Using legacy 'setup.py install' for pandoc-attributes, since package 'wheel' is not installed.\n",
      "Installing collected packages: pandoc-attributes, notedown\n",
      "  Running setup.py install for pandoc-attributes: started\n",
      "  Running setup.py install for pandoc-attributes: finished with status 'done'\n",
      "Successfully installed notedown-1.5.1 pandoc-attributes-0.1.7\n",
      "\n",
      "[notice] A new release of pip available: 22.1.2 -> 22.2.2\n",
      "[notice] To update, run: python.exe -m pip install --upgrade pip\n",
      "Note: you may need to restart the kernel to use updated packages.\n"
     ]
    }
   ],
   "source": [
    "pip install notedown"
   ]
  },
  {
   "cell_type": "code",
   "execution_count": 5,
   "id": "9b1e8a27",
   "metadata": {},
   "outputs": [
    {
     "ename": "SyntaxError",
     "evalue": "invalid syntax (2860402034.py, line 1)",
     "output_type": "error",
     "traceback": [
      "\u001b[1;36m  File \u001b[1;32m\"C:\\Users\\xx-re\\AppData\\Local\\Temp\\ipykernel_2880\\2860402034.py\"\u001b[1;36m, line \u001b[1;32m1\u001b[0m\n\u001b[1;33m    import sos-markdown\u001b[0m\n\u001b[1;37m              ^\u001b[0m\n\u001b[1;31mSyntaxError\u001b[0m\u001b[1;31m:\u001b[0m invalid syntax\n"
     ]
    }
   ],
   "source": [
    "import sos-markdown"
   ]
  },
  {
   "cell_type": "code",
   "execution_count": null,
   "id": "cc16c5c5",
   "metadata": {},
   "outputs": [],
   "source": []
  }
 ],
 "metadata": {
  "kernelspec": {
   "display_name": "Python 3 (ipykernel)",
   "language": "python",
   "name": "python3"
  },
  "language_info": {
   "codemirror_mode": {
    "name": "ipython",
    "version": 3
   },
   "file_extension": ".py",
   "mimetype": "text/x-python",
   "name": "python",
   "nbconvert_exporter": "python",
   "pygments_lexer": "ipython3",
   "version": "3.10.4"
  }
 },
 "nbformat": 4,
 "nbformat_minor": 5
}
